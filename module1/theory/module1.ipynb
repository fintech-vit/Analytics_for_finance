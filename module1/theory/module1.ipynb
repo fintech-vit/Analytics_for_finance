{
 "cells": [
  {
   "cell_type": "markdown",
   "id": "ad38649e",
   "metadata": {},
   "source": []
  }
 ],
 "metadata": {
  "kernelspec": {
   "display_name": "R",
   "language": "R",
   "name": "ir"
  },
  "language_info": {
   "name": "R"
  }
 },
 "nbformat": 4,
 "nbformat_minor": 5
}
