{
  "cells": [
    {
      "cell_type": "markdown",
      "metadata": {
        "id": "Wy5demU1Yl4y"
      },
      "source": [
        "# **Law, Order, and Algorithms**\n",
        "# Introduction to `R`\n",
        "\n",
        "The computing language `R` is a powerful tool for statistical analysis. We'll explore some of it's basic features while exploring claims of double voting and the classic \"birthday paradox.\"\n",
        "\n",
        "This tutorial is based on findings in the paper [One Person, One Vote: Estimating the Prevalence of Double Voting in U.S. Presidential Elections](https://5harad.com/papers/1p1v.pdf) by Goel et al. (2020). David Kestenbaum broke down the numbers in an [episode](https://www.thisamericanlife.org/630/things-i-mean-to-know/act-one-1) of This American Life."
      ]
    },
    {
      "cell_type": "markdown",
      "metadata": {
        "id": "pkTIGRdjZoiP"
      },
      "source": [
        "**Getting started**\n",
        "\n",
        "Before you start, create a copy of this Jupyter notebook in your own Google Drive by clicking `Copy to Drive` in the menubar. If you do not do this your work will not be saved!\n",
        "\n",
        "Remember to save your work frequently by pressing command-S or clicking File > Save in the menubar.\n",
        "\n",
        "We recommend completing this problem set in Google Chrome.\n",
        "\n",
        "We encourage you to make use of [PingPong](https://pingpong.hks.harvard.edu/), an AI tutor (based on ChatGPT) that we built to help you code."
      ]
    },
    {
      "cell_type": "markdown",
      "metadata": {
        "id": "vGGlH_tMYl4z"
      },
      "source": [
        "## Claims of voter fraud"
      ]
    },
    {
      "cell_type": "markdown",
      "metadata": {
        "id": "zMMmcBieYl4z"
      },
      "source": [
        "Claims of voter fraud are widespread. Here's one example:"
      ]
    },
    {
      "cell_type": "markdown",
      "metadata": {
        "id": "cfRrBO0bYl40"
      },
      "source": [
        "> **“Probably over a million people voted twice\n",
        "in [the 2012 presidential] election.”**\n",
        ">\n",
        "> Dick Morris, in 2014 on Fox News"
      ]
    },
    {
      "cell_type": "markdown",
      "metadata": {
        "id": "Zz8EpyDVYl40"
      },
      "source": [
        "**Double voting** occurs when a single person illegally casts more than one vote in an election.\n",
        "\n",
        "To start, consider this fact:\n",
        "\n",
        "> In the 2012 election, there were 141 individuals named \"John Smith\" who were born in 1970. Among those 141 individuals, there were 27 pairs of people with exactly the same birthday.\n",
        "\n",
        "Were there 27 fraudulent \"John Smith\" ballots in the 2012 election? Let's find out!"
      ]
    },
    {
      "cell_type": "markdown",
      "metadata": {
        "id": "J0Ur0fPDYl40"
      },
      "source": [
        "## The birthday problem"
      ]
    },
    {
      "cell_type": "markdown",
      "metadata": {
        "id": "Tx0oqbPkYl40"
      },
      "source": [
        "To begin answering this question, let's solve a similar problem:\n",
        "\n",
        "> In a room of 30 people, how likely is it that two people share exactly the same birthday?\n",
        ">\n",
        "> You can assume that every person in the room was born in the same year."
      ]
    },
    {
      "cell_type": "markdown",
      "metadata": {
        "id": "vwqi60AKYl40"
      },
      "source": [
        "To answer this question, we'll use the following [Monte Carlo](https://en.wikipedia.org/wiki/Monte_Carlo_method) algorithm:\n",
        " > 1. We need a room of 30 people, and we need to know their birthdays.\n",
        " > 2. We need to check whether two people in that room share a birthday.\n",
        " > 3. We need to repeat steps 1 and 2 over and over.\n",
        " > 4. We need to figure out how often two or more people shared a birthday in our simulations."
      ]
    },
    {
      "cell_type": "markdown",
      "metadata": {
        "id": "l1knPOXDYl41"
      },
      "source": [
        "## The `sample` command"
      ]
    },
    {
      "cell_type": "markdown",
      "metadata": {
        "id": "bfbkFSWAYl41"
      },
      "source": [
        "Here's the first step of our algorithm:\n",
        "\n",
        "> We need a room of 30 people, and we need to know their birthdays.\n",
        "\n",
        "To do this in `R`, we can use the `sample` command, which works as follows:\n",
        "\n",
        "> `sample(numbers to choose from, how many numbers to choose, whether to re-use numbers)`"
      ]
    },
    {
      "cell_type": "code",
      "execution_count": 3,
      "metadata": {
        "id": "LadcgTAhYl41",
        "vscode": {
          "languageId": "r"
        }
      },
      "outputs": [
        {
          "data": {
            "text/html": [
              "<style>\n",
              ".list-inline {list-style: none; margin:0; padding: 0}\n",
              ".list-inline>li {display: inline-block}\n",
              ".list-inline>li:not(:last-child)::after {content: \"\\00b7\"; padding: 0 .5ex}\n",
              "</style>\n",
              "<ol class=list-inline><li>38</li><li>1</li><li>43</li><li>50</li><li>4</li></ol>\n"
            ],
            "text/latex": [
              "\\begin{enumerate*}\n",
              "\\item 38\n",
              "\\item 1\n",
              "\\item 43\n",
              "\\item 50\n",
              "\\item 4\n",
              "\\end{enumerate*}\n"
            ],
            "text/markdown": [
              "1. 38\n",
              "2. 1\n",
              "3. 43\n",
              "4. 50\n",
              "5. 4\n",
              "\n",
              "\n"
            ],
            "text/plain": [
              "[1] 38  1 43 50  4"
            ]
          },
          "metadata": {},
          "output_type": "display_data"
        }
      ],
      "source": [
        "# To run code in a cell, you can either press SHIFT + ENTER,\n",
        "# or press the triangular play button that appears on the left\n",
        "# when you cover over the cell.\n",
        "#\n",
        "# Note: the colon (`:`) symbol allows us to create lists of consecutive\n",
        "# integers from start:end.\n",
        "\n",
        "sample(1:50, 5, replace = FALSE)"
      ]
    },
    {
      "cell_type": "code",
      "execution_count": 4,
      "metadata": {
        "id": "4DhDQ4nSYl42",
        "vscode": {
          "languageId": "r"
        }
      },
      "outputs": [
        {
          "data": {
            "text/html": [
              "<style>\n",
              ".list-inline {list-style: none; margin:0; padding: 0}\n",
              ".list-inline>li {display: inline-block}\n",
              ".list-inline>li:not(:last-child)::after {content: \"\\00b7\"; padding: 0 .5ex}\n",
              "</style>\n",
              "<ol class=list-inline><li>53</li><li>59</li><li>56</li><li>51</li><li>55</li></ol>\n"
            ],
            "text/latex": [
              "\\begin{enumerate*}\n",
              "\\item 53\n",
              "\\item 59\n",
              "\\item 56\n",
              "\\item 51\n",
              "\\item 55\n",
              "\\end{enumerate*}\n"
            ],
            "text/markdown": [
              "1. 53\n",
              "2. 59\n",
              "3. 56\n",
              "4. 51\n",
              "5. 55\n",
              "\n",
              "\n"
            ],
            "text/plain": [
              "[1] 53 59 56 51 55"
            ]
          },
          "metadata": {},
          "output_type": "display_data"
        }
      ],
      "source": [
        "sample(50:60, 5, replace = TRUE)"
      ]
    },
    {
      "cell_type": "code",
      "execution_count": 5,
      "metadata": {
        "id": "6zHPL-ZwYl42",
        "vscode": {
          "languageId": "r"
        }
      },
      "outputs": [
        {
          "ename": "ERROR",
          "evalue": "Error in sample.int(length(x), size, replace, prob): cannot take a sample larger than the population when 'replace = FALSE'\n",
          "output_type": "error",
          "traceback": [
            "Error in sample.int(length(x), size, replace, prob): cannot take a sample larger than the population when 'replace = FALSE'\nTraceback:\n",
            "1. sample.int(length(x), size, replace, prob)",
            "2. .handleSimpleError(function (cnd) \n . {\n .     watcher$capture_plot_and_output()\n .     cnd <- sanitize_call(cnd)\n .     watcher$push(cnd)\n .     switch(on_error, continue = invokeRestart(\"eval_continue\"), \n .         stop = invokeRestart(\"eval_stop\"), error = NULL)\n . }, \"cannot take a sample larger than the population when 'replace = FALSE'\", \n .     base::quote(sample.int(length(x), size, replace, prob)))"
          ]
        }
      ],
      "source": [
        "# Why does this fail?\n",
        "sample(1:5, 6, replace = FALSE)"
      ]
    },
    {
      "cell_type": "markdown",
      "metadata": {
        "id": "TkcNdDIwYl42"
      },
      "source": [
        "### Exercise\n",
        "\n",
        "**Using `sample`, simulate a list of 30 random birthdays.**\n",
        "\n",
        "We can represent days of the year with the numbers 1 through 365. For example, 1 corresponds to Jan. 1, 2 corresponds to Jan. 2, 365 corresponds to Dec. 31. (We'll ignore leap years.)"
      ]
    },
    {
      "cell_type": "code",
      "execution_count": null,
      "metadata": {
        "id": "9W3bb1_5Yl42",
        "vscode": {
          "languageId": "r"
        }
      },
      "outputs": [],
      "source": [
        "# Your code goes here!\n",
        "\n"
      ]
    },
    {
      "cell_type": "markdown",
      "metadata": {
        "id": "87KE8ub9Yl42"
      },
      "source": [
        "## Interlude: Basic operations, variables, and vectors"
      ]
    },
    {
      "cell_type": "markdown",
      "metadata": {
        "id": "EvseMRPyYl43"
      },
      "source": [
        "### Using R as a calculator\n",
        "\n",
        "Run the cells below to see how `R` can be used to perform simple arithmetic.\n",
        "\n",
        "Modify the cells to practice using `R`"
      ]
    },
    {
      "cell_type": "code",
      "execution_count": null,
      "metadata": {
        "id": "vyFZTsRRYl43",
        "vscode": {
          "languageId": "r"
        }
      },
      "outputs": [],
      "source": [
        "5 + 10"
      ]
    },
    {
      "cell_type": "code",
      "execution_count": null,
      "metadata": {
        "id": "Ov4FJhYyYl43",
        "vscode": {
          "languageId": "r"
        }
      },
      "outputs": [],
      "source": [
        "30 * 3"
      ]
    },
    {
      "cell_type": "code",
      "execution_count": null,
      "metadata": {
        "id": "OJSnw951Yl43",
        "vscode": {
          "languageId": "r"
        }
      },
      "outputs": [],
      "source": [
        "25 / 5"
      ]
    },
    {
      "cell_type": "code",
      "execution_count": null,
      "metadata": {
        "id": "1Uyq5fOXYl43",
        "vscode": {
          "languageId": "r"
        }
      },
      "outputs": [],
      "source": [
        "3 ^ 2"
      ]
    },
    {
      "cell_type": "code",
      "execution_count": null,
      "metadata": {
        "id": "c8qnK3rOYl43",
        "vscode": {
          "languageId": "r"
        }
      },
      "outputs": [],
      "source": [
        "(2 + 3) * 5"
      ]
    },
    {
      "cell_type": "markdown",
      "metadata": {
        "id": "DPX9tbkxYl43"
      },
      "source": [
        "### Variable Assignment"
      ]
    },
    {
      "cell_type": "markdown",
      "metadata": {
        "id": "FZanGc6DYl43"
      },
      "source": [
        "To assign the value `2` to the variable `x`, we use the syntax `x <- 2`"
      ]
    },
    {
      "cell_type": "code",
      "execution_count": null,
      "metadata": {
        "id": "Q4Of10OyYl43",
        "vscode": {
          "languageId": "r"
        }
      },
      "outputs": [],
      "source": [
        "x <- 2\n",
        "x"
      ]
    },
    {
      "cell_type": "markdown",
      "metadata": {
        "id": "g7eb0pOOYl43"
      },
      "source": [
        "### Vectors\n",
        "\n",
        "Vectors are the building block of `R`."
      ]
    },
    {
      "cell_type": "code",
      "execution_count": null,
      "metadata": {
        "id": "rLdrlTQ7Yl43",
        "vscode": {
          "languageId": "r"
        }
      },
      "outputs": [],
      "source": [
        "print(25:75)"
      ]
    },
    {
      "cell_type": "markdown",
      "metadata": {
        "id": "5eAMVFM_Yl43"
      },
      "source": [
        "The bracketed numbers on the left side of the printed results indicate the index of the element immediately to the right.\n",
        "\n",
        "For example `[26]` indicates that `50` is the 26th element in the vector."
      ]
    },
    {
      "cell_type": "markdown",
      "metadata": {
        "id": "Xk0dx2AiYl43"
      },
      "source": [
        "We can also use `c()` to create vectors. The \"c\" stands for **concatenate**."
      ]
    },
    {
      "cell_type": "code",
      "execution_count": null,
      "metadata": {
        "id": "TD46P0TnYl43",
        "vscode": {
          "languageId": "r"
        }
      },
      "outputs": [],
      "source": [
        "c(10, 100, 1000)"
      ]
    },
    {
      "cell_type": "markdown",
      "metadata": {
        "id": "aWI6QP4VYl44"
      },
      "source": [
        "We can index elements of vectors using `[ ]`."
      ]
    },
    {
      "cell_type": "code",
      "execution_count": null,
      "metadata": {
        "id": "YA_KhFdSYl44",
        "vscode": {
          "languageId": "r"
        }
      },
      "outputs": [],
      "source": [
        "my_vector <- c(\"Apple\", \"Banana\", \"Carrot\", \"Daikon\")"
      ]
    },
    {
      "cell_type": "code",
      "execution_count": null,
      "metadata": {
        "id": "j0Nhtu_-Yl44",
        "vscode": {
          "languageId": "r"
        }
      },
      "outputs": [],
      "source": [
        "my_vector[1]"
      ]
    },
    {
      "cell_type": "markdown",
      "metadata": {
        "id": "-7sL1QNjTFOU"
      },
      "source": [
        "We can also do arithmetic with vectors. For example `sum()` adds up all the values in a vector"
      ]
    },
    {
      "cell_type": "code",
      "execution_count": null,
      "metadata": {
        "id": "SAXulWMGTSRf",
        "vscode": {
          "languageId": "r"
        }
      },
      "outputs": [],
      "source": [
        "v <- c(5, 3, 2)\n",
        "sum(v)"
      ]
    },
    {
      "cell_type": "markdown",
      "metadata": {
        "id": "KKQHtaSMXKLw"
      },
      "source": [
        "Vectors that contain only the values `TRUE` and `FALSE` are called _Boolean_ vectors. In this case, we can still do arithemtic on these values, with the understanding that `TRUE` corresponds to the number 1, and `FALSE` corresponds to the number 0."
      ]
    },
    {
      "cell_type": "code",
      "execution_count": null,
      "metadata": {
        "id": "Wsh3LgQ4W7CN",
        "vscode": {
          "languageId": "r"
        }
      },
      "outputs": [],
      "source": [
        "b <- c(TRUE, FALSE, TRUE)\n",
        "sum(b)"
      ]
    },
    {
      "cell_type": "markdown",
      "metadata": {
        "id": "IVFHjdypYl44"
      },
      "source": [
        "## Back to the birthday problem: Finding duplicates"
      ]
    },
    {
      "cell_type": "markdown",
      "metadata": {
        "id": "-dsjQZKfYl44"
      },
      "source": [
        "Here's the second step in our algorithm:\n",
        "\n",
        "> We need to check whether two people in the room share a birthday.\n",
        "\n",
        "The code below defines a new function, `has_duplicate`.\n",
        "\n",
        "> `has_duplicate` returns `TRUE` if a vector contains any duplicate values, and FALSE otherwise.\n",
        "\n",
        "`R` automatically returns the last line of every function. (No need to call `return` explicitly, like in some programming languages.)"
      ]
    },
    {
      "cell_type": "code",
      "execution_count": null,
      "metadata": {
        "id": "ZVm6hCp6Yl44",
        "vscode": {
          "languageId": "r"
        }
      },
      "outputs": [],
      "source": [
        "has_duplicate <- function(v) {\n",
        "    any(duplicated(v))\n",
        "}"
      ]
    },
    {
      "cell_type": "code",
      "execution_count": null,
      "metadata": {
        "id": "TmEcIbmGYl44",
        "vscode": {
          "languageId": "r"
        }
      },
      "outputs": [],
      "source": [
        "has_duplicate(c(1, 2, 3, 4, 5))"
      ]
    },
    {
      "cell_type": "code",
      "execution_count": null,
      "metadata": {
        "id": "533r_opEYl44",
        "vscode": {
          "languageId": "r"
        }
      },
      "outputs": [],
      "source": [
        "has_duplicate(c(1, 2, 3, 4, 5, 5))"
      ]
    },
    {
      "cell_type": "markdown",
      "metadata": {
        "id": "WmGhZ2hJYl44"
      },
      "source": [
        "### Exercise\n",
        "\n",
        "**Generate a vector of 30 random birthdays, and determine whether the vector has any duplicates. Run your code a couple times to get a sense of how frequently there is at least one duplicated birthday.**"
      ]
    },
    {
      "cell_type": "code",
      "execution_count": null,
      "metadata": {
        "id": "OcEiSoKpYl44",
        "vscode": {
          "languageId": "r"
        }
      },
      "outputs": [],
      "source": [
        "# Your code here!\n",
        "\n"
      ]
    },
    {
      "cell_type": "markdown",
      "metadata": {
        "id": "vIPaJS6pYl45"
      },
      "source": [
        "### Repetition with `replicate`\n",
        "\n",
        "Here's the third step in our algorithm:\n",
        "\n",
        "> We need to repeat this process over and over.\n",
        "\n",
        "The `replicate` function lets us repeat an expression many times, and returns the answers in a vector\n",
        "\n",
        "> `replicate(number of repetitions, { something to do })`"
      ]
    },
    {
      "cell_type": "code",
      "execution_count": null,
      "metadata": {
        "id": "3bS-CmmfYl45",
        "vscode": {
          "languageId": "r"
        }
      },
      "outputs": [],
      "source": [
        "replicate(10, {\n",
        "  x <- sample(1:100, 5)\n",
        "  sum(x)\n",
        "})"
      ]
    },
    {
      "cell_type": "markdown",
      "metadata": {
        "id": "Wem3ZnoyYl45"
      },
      "source": [
        "## Putting it together: Translating our algorithm into code"
      ]
    },
    {
      "cell_type": "markdown",
      "metadata": {
        "id": "cIvJy0fAYl45"
      },
      "source": [
        "We're ready to come back to our algorithm:\n",
        "\n",
        "> 1. We need a room of 30 people, and we need to know their birthdays.\n",
        "> 2. We need to check whether two people in that room share a birthday.\n",
        "> 3. We need to repeat this process over and over.\n",
        "> 4. We need to figure out how frequently two or more people shared a birthday in our simulations."
      ]
    },
    {
      "cell_type": "markdown",
      "metadata": {
        "id": "T-NFvdimYl45"
      },
      "source": [
        "### Exercise\n",
        "\n",
        "**Translate our algorithm into code to solve the birthday problem!**"
      ]
    },
    {
      "cell_type": "code",
      "execution_count": null,
      "metadata": {
        "id": "LeXEpk49Yl45",
        "vscode": {
          "languageId": "r"
        }
      },
      "outputs": [],
      "source": [
        "# Your code here!\n",
        "\n"
      ]
    },
    {
      "cell_type": "markdown",
      "metadata": {
        "id": "S-eUMNVxYl45"
      },
      "source": [
        "### Question\n",
        "\n",
        "**Increase the number of people in the room, and re-run the code several times. What happens to the probability of getting a duplicate?**"
      ]
    },
    {
      "cell_type": "markdown",
      "metadata": {
        "id": "tWWgKBFFYl45"
      },
      "source": [
        "### Question\n",
        "\n",
        "**Increase the number of simulated rooms to 100,000, and re-run the code several times. What happens to the results?**"
      ]
    },
    {
      "cell_type": "markdown",
      "metadata": {
        "id": "gtIJwN5vYl46"
      },
      "source": [
        "### Question\n",
        "\n",
        "**How many people do we need in a room so that there's an approximately 50% chance of a match?**"
      ]
    },
    {
      "cell_type": "markdown",
      "metadata": {
        "id": "nkBz1YpwYl46"
      },
      "source": [
        "## Circling back to double voting\n",
        "\n",
        "Remember our original problem:\n",
        "\n",
        "> In the 2012 election, there were 141 individuals named \"John Smith\" who were born in 1970. Among those 141 individuals, there were 27 pairs of people with exactly the same birthday.\n"
      ]
    },
    {
      "cell_type": "markdown",
      "metadata": {
        "id": "eYo7RZe-Yl44"
      },
      "source": [
        "### Counting *pairs* of duplicates\n",
        "\n",
        "The code below defines another function, `num_pairs`.\n",
        "\n",
        "`num_pairs` returns the number of pairs that can formed with duplicated values.\n",
        "\n",
        "\n",
        "For example, the vector `c(1, 2, 3, 3)` has two 3s, so `num_pairs` should return 1. In other words, we can only make one pair of identical numbers.\n",
        "\n",
        "The vector `c(5, 1, 5, 5)` has three 5s, so `num_pairs` should return 3. (Why?)\n",
        "\n",
        "The vector `c(1, 2, 3, 4, 5, 5, 5, 6, 6)` has three 5s and two 6s, so `num_pairs` should return 3 + 1 = 4. (Why?)"
      ]
    },
    {
      "cell_type": "code",
      "execution_count": null,
      "metadata": {
        "id": "xKLPT0UsYl44",
        "vscode": {
          "languageId": "r"
        }
      },
      "outputs": [],
      "source": [
        "# don't worry about studying / understanding this specific function,\n",
        "# just trust us that it works!\n",
        "num_pairs <- function(v) {\n",
        "    duplicated_indices <- duplicated(v)\n",
        "    duplicated_values <- v[duplicated_indices]\n",
        "    duplicated_counts <- table(duplicated_values) + 1\n",
        "    sum(choose(duplicated_counts, 2))\n",
        "}"
      ]
    },
    {
      "cell_type": "markdown",
      "metadata": {
        "id": "iZPO3sW-Yl44"
      },
      "source": [
        "### Exercise\n",
        "\n",
        "**Generate a vector of 141 random birthdays, and determine how many duplicate pairs can be formed from elements in the vector.** Run your code repeatedly to see how the results can change due to randomness."
      ]
    },
    {
      "cell_type": "code",
      "execution_count": null,
      "metadata": {
        "id": "gGTJCyKlYl44",
        "vscode": {
          "languageId": "r"
        }
      },
      "outputs": [],
      "source": [
        "# Your code here!\n",
        "\n"
      ]
    },
    {
      "cell_type": "markdown",
      "metadata": {
        "id": "LvBOrOc7tfoz"
      },
      "source": [
        "### Exercise\n",
        "\n",
        "**As before, repeat the simulation many times, and take the average.**\n",
        "\n",
        "How does your answer compare to the 27 birthday pairs we found in the real data?"
      ]
    },
    {
      "cell_type": "code",
      "execution_count": null,
      "metadata": {
        "id": "1LipO3eGYl46",
        "vscode": {
          "languageId": "r"
        }
      },
      "outputs": [],
      "source": [
        "# Your code here!\n",
        "\n"
      ]
    },
    {
      "cell_type": "markdown",
      "metadata": {
        "id": "mndqyUf_Yl46"
      },
      "source": [
        "## Solving the problem with _math_\n",
        "\n",
        "We took a bit of a meandering path to solve this problem. But don't worry, it was about the journey, not the destination!\n",
        "\n",
        "A more direct route starts by observing that for a random pair of people, there's about a 1 in 365 chance that they share the same birthday (month and day, not year). That's because the first person is born on some day, say June 12, and the second person is about equally likely to be born on any day of the year, so, in particular, they have about a 1 in 365 chance of being born on June 12 (or whatever day the first person was born on).\n",
        "\n",
        "Now, in room of 141 people, the number of _pairs of people_ is:\n",
        "\n",
        "> $\\binom{141}{2} = \\frac{141\\cdot140}{2} = 9,870$.\n",
        "\n",
        "Finally, since each pair has about 1 in 365 chance of being a match, we expect\n",
        "\n",
        "> $\\frac{141\\cdot140}{2} \\cdot \\frac{1}{365} \\approx 27$ matches.\n"
      ]
    },
    {
      "cell_type": "code",
      "execution_count": null,
      "metadata": {
        "id": "9udHq0WaYl46",
        "vscode": {
          "languageId": "r"
        }
      },
      "outputs": [],
      "source": [
        "(141 * 140 / 2) * 1/365"
      ]
    }
  ],
  "metadata": {
    "colab": {
      "name": "intro-to-R-exercises.ipynb",
      "private_outputs": true,
      "provenance": []
    },
    "gpuClass": "standard",
    "kernelspec": {
      "display_name": "R",
      "language": "R",
      "name": "ir"
    },
    "language_info": {
      "codemirror_mode": "r",
      "file_extension": ".r",
      "mimetype": "text/x-r-source",
      "name": "R",
      "pygments_lexer": "r",
      "version": "4.1.2"
    }
  },
  "nbformat": 4,
  "nbformat_minor": 0
}
